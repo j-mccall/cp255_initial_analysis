{
 "cells": [
  {
   "cell_type": "markdown",
   "metadata": {},
   "source": [
    "# Pandas part 2: Data types and missing values\n",
    "\n",
    "Notebook developed by Sam Maurer"
   ]
  },
  {
   "cell_type": "code",
   "execution_count": 1,
   "metadata": {},
   "outputs": [],
   "source": [
    "import numpy as np\n",
    "import pandas as pd"
   ]
  },
  {
   "cell_type": "markdown",
   "metadata": {},
   "source": [
    "## 1. Working with data types\n",
    "\n",
    "Python and Pandas will automatically assign appropriate types to your data."
   ]
  },
  {
   "cell_type": "code",
   "execution_count": 2,
   "metadata": {},
   "outputs": [],
   "source": [
    "df = pd.DataFrame({'x': [1.4, 5.98, 12.0, 0], \n",
    "                   'y': [17, 40, 52, 0], \n",
    "                   'z': ['tall', 'tall', 'tall', 'small']})"
   ]
  },
  {
   "cell_type": "code",
   "execution_count": 3,
   "metadata": {},
   "outputs": [
    {
     "name": "stdout",
     "output_type": "stream",
     "text": [
      "<class 'pandas.core.frame.DataFrame'>\n",
      "RangeIndex: 4 entries, 0 to 3\n",
      "Data columns (total 3 columns):\n",
      "x    4 non-null float64\n",
      "y    4 non-null int64\n",
      "z    4 non-null object\n",
      "dtypes: float64(1), int64(1), object(1)\n",
      "memory usage: 176.0+ bytes\n"
     ]
    }
   ],
   "source": [
    "df.info()"
   ]
  },
  {
   "cell_type": "markdown",
   "metadata": {},
   "source": [
    "(\"Object\" is what Pandas calls anything that's not numeric.)\n",
    "\n",
    "You can convert types like this:"
   ]
  },
  {
   "cell_type": "code",
   "execution_count": 4,
   "metadata": {},
   "outputs": [
    {
     "data": {
      "text/plain": [
       "0     1\n",
       "1     5\n",
       "2    12\n",
       "3     0\n",
       "Name: x, dtype: int64"
      ]
     },
     "execution_count": 4,
     "metadata": {},
     "output_type": "execute_result"
    }
   ],
   "source": [
    "df['x'].astype('int')"
   ]
  },
  {
   "cell_type": "markdown",
   "metadata": {},
   "source": [
    "Reminder that when you apply a function to a Series or DataFrame, Python will calculate the result, but generally _not save it anywhere_ unless you use an `=` to assign the values to a new or existing variable/column.\n",
    "\n",
    "A data type of `int64` means integers with 64 bits of precision, which supports up to 19 decimal digits or so. The default bit precision varies from platform to platform, so it's safer to refer to generic types like `int` in your code, rather than specific ones, unless you have a good reason."
   ]
  },
  {
   "cell_type": "markdown",
   "metadata": {},
   "source": [
    "## 2. Working with missing values\n",
    "\n",
    "The standard way to denote a missing value in the Python data science world is with NumPy's `np.nan` object. "
   ]
  },
  {
   "cell_type": "code",
   "execution_count": 5,
   "metadata": {},
   "outputs": [],
   "source": [
    "df = pd.DataFrame({'x': [1.4, 5.98, np.nan, 0], \n",
    "                   'y': [17, 40, 52, -1]})"
   ]
  },
  {
   "cell_type": "code",
   "execution_count": 6,
   "metadata": {},
   "outputs": [
    {
     "data": {
      "text/html": [
       "<div>\n",
       "<style scoped>\n",
       "    .dataframe tbody tr th:only-of-type {\n",
       "        vertical-align: middle;\n",
       "    }\n",
       "\n",
       "    .dataframe tbody tr th {\n",
       "        vertical-align: top;\n",
       "    }\n",
       "\n",
       "    .dataframe thead th {\n",
       "        text-align: right;\n",
       "    }\n",
       "</style>\n",
       "<table border=\"1\" class=\"dataframe\">\n",
       "  <thead>\n",
       "    <tr style=\"text-align: right;\">\n",
       "      <th></th>\n",
       "      <th>x</th>\n",
       "      <th>y</th>\n",
       "    </tr>\n",
       "  </thead>\n",
       "  <tbody>\n",
       "    <tr>\n",
       "      <th>0</th>\n",
       "      <td>1.40</td>\n",
       "      <td>17</td>\n",
       "    </tr>\n",
       "    <tr>\n",
       "      <th>1</th>\n",
       "      <td>5.98</td>\n",
       "      <td>40</td>\n",
       "    </tr>\n",
       "    <tr>\n",
       "      <th>2</th>\n",
       "      <td>NaN</td>\n",
       "      <td>52</td>\n",
       "    </tr>\n",
       "    <tr>\n",
       "      <th>3</th>\n",
       "      <td>0.00</td>\n",
       "      <td>-1</td>\n",
       "    </tr>\n",
       "  </tbody>\n",
       "</table>\n",
       "</div>"
      ],
      "text/plain": [
       "      x   y\n",
       "0  1.40  17\n",
       "1  5.98  40\n",
       "2   NaN  52\n",
       "3  0.00  -1"
      ]
     },
     "execution_count": 6,
     "metadata": {},
     "output_type": "execute_result"
    }
   ],
   "source": [
    "df"
   ]
  },
  {
   "cell_type": "markdown",
   "metadata": {},
   "source": [
    "As you will recall from lecture, integers can't be missing! Mixing a NaN with integers  will cause Pandas to convert the whole column in to floating-point values. (This is not the end of the world, but generally better to avoid.)\n",
    "\n",
    "When you're loading data, a nice workflow is to leave the missing values in place, and just filter the rows so you can focus on the valid observations. This is similar to the approach we used with columns in the last demo.\n",
    "\n",
    "All the rows where \"x\" is not missing:"
   ]
  },
  {
   "cell_type": "code",
   "execution_count": null,
   "metadata": {},
   "outputs": [],
   "source": [
    "df.loc[df['x'].notnull()]"
   ]
  },
  {
   "cell_type": "markdown",
   "metadata": {},
   "source": [
    "How does this work, exactly? The logical statements you write inside the square brackets generate a boolean \"mask\" specifying which rows to include and which to drop.\n",
    "\n",
    "When you pass the mask to `df.loc[]`, it returns the relevant subset of rows.\n",
    "\n",
    "Here's what a mask looks like:"
   ]
  },
  {
   "cell_type": "code",
   "execution_count": null,
   "metadata": {},
   "outputs": [],
   "source": [
    "df['x'].isnull()  # converse of .notnull()"
   ]
  },
  {
   "cell_type": "markdown",
   "metadata": {},
   "source": [
    "Suppose a value of y = -1 indicates a missing value in the integer column.\n",
    "\n",
    "Here's how to filter those rows out:"
   ]
  },
  {
   "cell_type": "code",
   "execution_count": null,
   "metadata": {},
   "outputs": [],
   "source": [
    "df.loc[df['y'] != -1]  # '!=' means 'not equal'"
   ]
  },
  {
   "cell_type": "markdown",
   "metadata": {},
   "source": [
    "Combining two expresions to filter out all the incomplete observations:"
   ]
  },
  {
   "cell_type": "code",
   "execution_count": null,
   "metadata": {},
   "outputs": [],
   "source": [
    "df.loc[df['x'].notnull() & \n",
    "       (df['y'] != -1)]"
   ]
  },
  {
   "cell_type": "markdown",
   "metadata": {},
   "source": [
    "There are not very many shortcuts for combining filter expressions, but one that can be useful is the `.isin()` function:"
   ]
  },
  {
   "cell_type": "code",
   "execution_count": null,
   "metadata": {},
   "outputs": [],
   "source": [
    "df.loc[df['y'].isin([17, 52])]"
   ]
  },
  {
   "cell_type": "markdown",
   "metadata": {},
   "source": [
    "All the comparison operators in one place:\n",
    "\n",
    "- `==` \"equals\" (because `=` assigns values)\n",
    "- `!=` \"does not equal\" \n",
    "- `&` \"and\"\n",
    "- `|` \"or\"\n",
    "- `~` \"not\"\n",
    "- `<` \"less than\"\n",
    "- `<=` \"less than or equal to\n",
    "- `>` \"greater than\"\n",
    "- `>=` \"greater than or equal to"
   ]
  },
  {
   "cell_type": "markdown",
   "metadata": {},
   "source": [
    "## 3. Using filters to edit data\n",
    "\n",
    "Occasionally you'll want to change specific cell values in a DataFrame.\n",
    "\n",
    "The syntax for this is a bit different from what we've been doing -- you need to ask for a specific set of rows, but also a specific column.\n",
    "\n",
    "Inside the square brackets, instead of `[expression]`, you use `[expression, colname]`:"
   ]
  },
  {
   "cell_type": "code",
   "execution_count": null,
   "metadata": {},
   "outputs": [],
   "source": [
    "df.loc[df['y'] == -1, 'y'] = 999  # '==' tests equality, '=' assigns a value"
   ]
  },
  {
   "cell_type": "code",
   "execution_count": null,
   "metadata": {},
   "outputs": [],
   "source": [
    "df"
   ]
  },
  {
   "cell_type": "markdown",
   "metadata": {},
   "source": [
    "## 4. A syntax shorthand for referring to columns\n",
    "\n",
    "Syntax like `df['y']` is hard to type. In most cases, you can use `df.y` instead!"
   ]
  },
  {
   "cell_type": "code",
   "execution_count": null,
   "metadata": {},
   "outputs": [],
   "source": [
    "df.y"
   ]
  },
  {
   "cell_type": "markdown",
   "metadata": {},
   "source": [
    "Rules for using the shorthand:\n",
    "\n",
    "1. The column must exist already.\n",
    "\n",
    "2. The column name must be valid as a Python variable. No spaces, hyphens, or \"reserved keywords\" like names of built-in DataFrame functions. "
   ]
  },
  {
   "cell_type": "code",
   "execution_count": null,
   "metadata": {},
   "outputs": [],
   "source": [
    "df[df.y > 5]"
   ]
  },
  {
   "cell_type": "markdown",
   "metadata": {},
   "source": [
    "## Exercises"
   ]
  },
  {
   "cell_type": "markdown",
   "metadata": {},
   "source": [
    "### a. Identifying data types\n",
    "\n",
    "Load the Zillow DataFrame from `pandas-part-1`.\n",
    "\n",
    "What data type do the median rent columns have? Does this make sense? Why is it happening?"
   ]
  },
  {
   "cell_type": "code",
   "execution_count": null,
   "metadata": {},
   "outputs": [],
   "source": [
    "url = \"http://files.zillowstatic.com/research/public/Metro/Metro_MedianRentalPrice_2Bedroom.csv\"\n",
    "df = pd.read_csv(url)\n",
    "df"
   ]
  },
  {
   "cell_type": "code",
   "execution_count": null,
   "metadata": {},
   "outputs": [],
   "source": [
    "df[\"2010-07\"].describe()"
   ]
  },
  {
   "cell_type": "markdown",
   "metadata": {},
   "source": [
    "### b. Converting data types and filtering missing values\n",
    "\n",
    "Let's look at the `2010-08` column. First, plot a histogram of it."
   ]
  },
  {
   "cell_type": "code",
   "execution_count": null,
   "metadata": {},
   "outputs": [],
   "source": [
    "df[\"2010-08\"].plot.hist()"
   ]
  },
  {
   "cell_type": "markdown",
   "metadata": {},
   "source": [
    "  Now, try to convert the column to integers. Does it work? If not, try converting the NaNs to \"indicator values\" first."
   ]
  },
  {
   "cell_type": "code",
   "execution_count": null,
   "metadata": {},
   "outputs": [],
   "source": [
    "df.loc[df['2010-08'].isnull(), '2010-08'] = 9999  # '==' tests equality, '=' assigns a value"
   ]
  },
  {
   "cell_type": "code",
   "execution_count": null,
   "metadata": {},
   "outputs": [],
   "source": [
    "df[df[\"2010-08\"]==9999]"
   ]
  },
  {
   "cell_type": "markdown",
   "metadata": {},
   "source": [
    "Plot a histogram of the integer version of the column, making sure to filter out the missing values."
   ]
  },
  {
   "cell_type": "code",
   "execution_count": null,
   "metadata": {},
   "outputs": [],
   "source": []
  },
  {
   "cell_type": "markdown",
   "metadata": {},
   "source": [
    "### c. Column naming\n",
    "\n",
    "Add a column to the DataFrame column named \"mean\".\n",
    "\n",
    "What happens if you try to refer to it as `df.mean`? Why?"
   ]
  },
  {
   "cell_type": "code",
   "execution_count": null,
   "metadata": {},
   "outputs": [],
   "source": []
  }
 ],
 "metadata": {
  "kernelspec": {
   "display_name": "Python 3",
   "language": "python",
   "name": "python3"
  },
  "language_info": {
   "codemirror_mode": {
    "name": "ipython",
    "version": 3
   },
   "file_extension": ".py",
   "mimetype": "text/x-python",
   "name": "python",
   "nbconvert_exporter": "python",
   "pygments_lexer": "ipython3",
   "version": "3.6.9"
  }
 },
 "nbformat": 4,
 "nbformat_minor": 4
}
